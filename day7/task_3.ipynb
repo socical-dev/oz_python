{
 "cells": [
  {
   "cell_type": "markdown",
   "metadata": {},
   "source": [
    "사용자로부터 여러 개의 숫자를 입력받아 리스트에 저장한 후, 사용자가 'done'이라고 입력할 때까지 계속 입력받으세요. \n",
    "\n",
    "- 입력 중 숫자가 아닌 값이 입력되면 ValueError를 처리\n",
    "- 숫자 외 값이 입력된 경우 어떤 값이 잘못 입력되었는지 사용자에게 알려주는 문구 출력<br>\n",
    "  (예: f\"잘못된 값: {변수}. 숫자를 입력해주세요.\")\n",
    "\n"
   ]
  },
  {
   "cell_type": "markdown",
   "metadata": {},
   "source": []
  },
  {
   "cell_type": "code",
   "execution_count": 11,
   "metadata": {},
   "outputs": [
    {
     "name": "stdout",
     "output_type": "stream",
     "text": [
      "잘못된 값: ㅁ.숫자를 입력해주세요.\n",
      "잘못된 값: d.숫자를 입력해주세요.\n",
      "잘못된 값: gh.숫자를 입력해주세요.\n",
      "잘못된 값: c.숫자를 입력해주세요.\n",
      "잘못된 값: z.숫자를 입력해주세요.\n",
      "잘못된 값: asdf.숫자를 입력해주세요.\n",
      "입력받아 리스트에 저장된 숫자는 [1, 3, 4, 5, 1203, 14, 5, 125]입니다.\n"
     ]
    }
   ],
   "source": [
    "class values:\n",
    "    def __init__(self):\n",
    "        self.check = \"\" # While 문을 빠져나올 수 있도록 하기 위해 선언\n",
    "        self.list = list()  # 입력 받은 숫자를 저장하는 리스트\n",
    "        \n",
    "    def value_input(self):\n",
    "        while self.check != \"done\" :    # 유저가 done 을 입력했는지 확인\n",
    "            try:\n",
    "                input_num = input(\"숫자를 입력해주세요 : \")\n",
    "                if input_num == \"done\": # done 을 입력했다면 self.check 에 done 문자열을 넣고, print 함수 호출\n",
    "                    self.check = input_num\n",
    "                    print(f\"입력받아 리스트에 저장된 숫자는 {self.list}입니다.\")\n",
    "                else:   # 조건문에 if else 문에 해당되지 않은 값을 받았을 때 예외\n",
    "                    self.list.append(int(input_num))\n",
    "            except ValueError as valueError:\n",
    "                print(f\"잘못된 값: {input_num}.숫자를 입력해주세요.\")\n",
    "                \n",
    "imp_values = values()\n",
    "imp_values.value_input()"
   ]
  }
 ],
 "metadata": {
  "kernelspec": {
   "display_name": "Python 3",
   "language": "python",
   "name": "python3"
  },
  "language_info": {
   "codemirror_mode": {
    "name": "ipython",
    "version": 3
   },
   "file_extension": ".py",
   "mimetype": "text/x-python",
   "name": "python",
   "nbconvert_exporter": "python",
   "pygments_lexer": "ipython3",
   "version": "3.9.6"
  }
 },
 "nbformat": 4,
 "nbformat_minor": 2
}
