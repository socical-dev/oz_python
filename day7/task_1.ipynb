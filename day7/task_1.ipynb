{
 "cells": [
  {
   "cell_type": "markdown",
   "metadata": {},
   "source": [
    "사용자로부터 두 개의 숫자를 입력받아 나눗셈을 수행하는 프로그램을 작성하세요. \n",
    "\n",
    "[예외처리]\n",
    "- 입력 값이 숫자가 아닐 때 발생할 수 있는 ValueError\n",
    "- 나누는 수가 0일 때 발생할 수 있는 ZeroDivisionError\n",
    "- 위 2가지 예외처리 후 사용자에게 이해하기 쉬운 메시지 작성 후 출력되도록 코드를 작성"
   ]
  },
  {
   "cell_type": "code",
   "execution_count": null,
   "metadata": {},
   "outputs": [
    {
     "name": "stdout",
     "output_type": "stream",
     "text": [
      "<class 'list'>\n",
      "나누는 수가 0이 되면 안되용!!\n",
      "값['1', '0']\n",
      "에러: integer division or modulo by zero\n"
     ]
    }
   ],
   "source": [
    "def sum():\n",
    "    try:\n",
    "        nums_list = input(\"두 개의 숫자를 입력해주세요. : \").split(\",\") # 두 수를 받아 split() 으로 쪼개 리스트 형식으로 변환\n",
    "        print(f\"두 입력한 수를 나누면 {int(nums_list[0])//int(nums_list[1])}입니다.\")\n",
    "    except ValueError as valueError:    # 출력에 쓰이는 값이 정확하지 않을 때 발생하는 예외\n",
    "        print(f\"값을 정확히 입력해주세요!!\\n값 : {nums_list}\\n에러 : {valueError}\")\n",
    "    except ZeroDivisionError as zeroDivisionError:  # 나누는 수가 0일 때 발생하는 예외\n",
    "        print(f\"나누는 수가 0이 되면 안되용!!\\n값{nums_list}\\n에러: {zeroDivisionError}\")\n",
    "\n",
    "sum()\n",
    "        \n",
    "    \n",
    "    "
   ]
  }
 ],
 "metadata": {
  "kernelspec": {
   "display_name": "Python 3",
   "language": "python",
   "name": "python3"
  },
  "language_info": {
   "codemirror_mode": {
    "name": "ipython",
    "version": 3
   },
   "file_extension": ".py",
   "mimetype": "text/x-python",
   "name": "python",
   "nbconvert_exporter": "python",
   "pygments_lexer": "ipython3",
   "version": "3.9.6"
  }
 },
 "nbformat": 4,
 "nbformat_minor": 2
}
