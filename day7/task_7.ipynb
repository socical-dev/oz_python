{
 "cells": [
  {
   "cell_type": "markdown",
   "metadata": {},
   "source": [
    "함수 실행 시간을 측정하는 데코레이터 timer_decorator를 작성하세요. \n",
    "\n",
    "임의의 함수가 실행되는 시간을 측정하여 \"함수 실행 시간: x.xx초\" 형태로 출력하세요."
   ]
  },
  {
   "cell_type": "code",
   "execution_count": 64,
   "metadata": {},
   "outputs": [
    {
     "name": "stdout",
     "output_type": "stream",
     "text": [
      "함수 실행 시간: 1736844049.9898539초\n",
      "입니다!!\n"
     ]
    }
   ],
   "source": [
    "import time\n",
    "\n",
    "start = float(time.time())\n",
    "\n",
    "def timerDecorator(function):\n",
    "    def wrapper():\n",
    "        function()\n",
    "        print(\"입니다!!\")\n",
    "        \n",
    "    \"\"\"\n",
    "    이전에는 return wrapper() 로 로직을 작성하여 메소드 호출결과를 리턴하는 방식으로 되다 보니까 콜백이 잘못 전달되는 이슈가 있었다.\n",
    "    \n",
    "    이슈 수정하기 위해 return wrapper 즉, 함수 객체를 리턴하는 방식으로 로직을 수정하여 이슈를 해결하였다.\n",
    "    이렇게 되면 wrapper 함수가 리턴된 후 해당 함수를 실행하는 방식으로 된다.\n",
    "    \"\"\"\n",
    "    return wrapper\n",
    "\n",
    "@timerDecorator\n",
    "def timeCheck():\n",
    "    print (f'함수 실행 시간: {start}초')\n",
    "\n",
    "timeCheck()\n",
    "    "
   ]
  },
  {
   "cell_type": "markdown",
   "metadata": {},
   "source": []
  }
 ],
 "metadata": {
  "kernelspec": {
   "display_name": ".venv",
   "language": "python",
   "name": "python3"
  },
  "language_info": {
   "codemirror_mode": {
    "name": "ipython",
    "version": 3
   },
   "file_extension": ".py",
   "mimetype": "text/x-python",
   "name": "python",
   "nbconvert_exporter": "python",
   "pygments_lexer": "ipython3",
   "version": "3.9.6"
  }
 },
 "nbformat": 4,
 "nbformat_minor": 2
}
