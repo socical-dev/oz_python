{
 "cells": [
  {
   "cell_type": "markdown",
   "metadata": {},
   "source": [
    "사용자 정의 예외 NegativeNumberError를 생성하고, 사용자로부터 숫자를 입력받아 음수일 경우 NegativeNumberError를 발생시키는 프로그램을 작성하세요. \n",
    "\n",
    "- 예외 처리 구문을 사용하여 음수 입력 시 \"양수를 입력해주세요.\"라는 메시지를 출력"
   ]
  },
  {
   "cell_type": "code",
   "execution_count": 30,
   "metadata": {},
   "outputs": [
    {
     "name": "stdout",
     "output_type": "stream",
     "text": [
      "양수를 입력해주세요.\n",
      "입력하신 값 : -123123\n"
     ]
    }
   ],
   "source": [
    "class NegativeNumberError(ValueError):  # 직접 예외 클래스를 다음과 만들 수도 있다. 매개변수에 예외 클래스를 넣어주면 된다. (나는 값을 잘못 입력했을 떄의 대한 예외처리를 위해 ValueError 를 사용)\n",
    "    def __init__(self,num): #클래스 생성 시 자동으로 실행되는 메서드\n",
    "        self.value = num\n",
    "    \n",
    "    def __str__(self):  # init의 변수를 출력하고 싶거나 어떠한 내용을 출력하고 싶을 떄 사용함 (__init__ 에서도 출력하고 있지만, __str__ 메서드에 추가하는게 더 깔끔한 것 같음)\n",
    "        return f\"양수를 입력해주세요.\\n입력하신 값 : {self.value}\"\n",
    "\n",
    "try:\n",
    "    input_num = input(\"숫자를 입력해주세요!!(단! 음수는 안됩니닷)\")\n",
    "    if int(input_num) < 0:\n",
    "        raise NegativeNumberError(input_num)\n",
    "except NegativeNumberError as vegativeNumberError:\n",
    "    print(vegativeNumberError)\n",
    "else:   # 예외가 발생하지 않을 때 실행.\n",
    "    print(f\"입력하신 값은 {int(input_num)} 입니다.\")\n",
    "\n"
   ]
  }
 ],
 "metadata": {
  "kernelspec": {
   "display_name": "Python 3",
   "language": "python",
   "name": "python3"
  },
  "language_info": {
   "codemirror_mode": {
    "name": "ipython",
    "version": 3
   },
   "file_extension": ".py",
   "mimetype": "text/x-python",
   "name": "python",
   "nbconvert_exporter": "python",
   "pygments_lexer": "ipython3",
   "version": "3.9.6"
  }
 },
 "nbformat": 4,
 "nbformat_minor": 2
}
