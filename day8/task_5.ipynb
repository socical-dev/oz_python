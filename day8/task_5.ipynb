{
 "cells": [
  {
   "cell_type": "markdown",
   "metadata": {},
   "source": [
    "[문제]\n",
    "\n",
    "'Account' 클래스를 작성하세요. \n",
    "\n",
    "이 클래스는 소유자(owner)와 잔액(balance)을 속성으로 가지며, 잔액은 프라이빗 변수로 선언합니다. \n",
    "\n",
    "'deposit'와 'withdraw' 두 개의 메소드를 통해 잔액을 조작할 수 있도록 하세요. \n",
    "\n",
    "이 때, 잔액은 음수가 될 수 없도록 체크해야 합니다. 'Account' 객체를 생성하고,<br>\n",
    "입금 및 출금 작업을 시뮬레이션한 후, 최종 잔액을 출력하세요."
   ]
  },
  {
   "cell_type": "code",
   "execution_count": 3,
   "metadata": {},
   "outputs": [
    {
     "name": "stdout",
     "output_type": "stream",
     "text": [
      "현재 입금액은 2500원\n",
      "현재 잔액은 12500원 입니다.\n",
      "현재 출금액은 3000원\n",
      "현재 잔액은 9500원 입니다.\n",
      "현재 입금액은 1원\n",
      "현재 잔액은 9501원 입니다.\n",
      "유효한 숫자를 입력해주세요.\n",
      "현재 출금액은 9501원\n",
      "현재 잔액은 0원 입니다.\n"
     ]
    }
   ],
   "source": [
    "class Account:\n",
    "    def __init__(self, owner, balance):\n",
    "        self.owner = owner\n",
    "        self.balance = balance\n",
    "        \n",
    "    def deposit(self, deposit):\n",
    "        self.balance += deposit\n",
    "        print(f'현재 입금액은 {deposit}원\\n현재 잔액은 {self.balance}원 입니다.')\n",
    "    \n",
    "    def withdraw(self, withdraw):\n",
    "        withdraw_amount = min(self.balance, withdraw)\n",
    "        self.balance -= withdraw_amount\n",
    "        print(f'현재 출금액은 {withdraw_amount}원\\n현재 잔액은 {self.balance}원 입니다.')\n",
    "            \n",
    "owner = input('소유자를 입력해주세요 ^^ : ')\n",
    "balace = int(input('잔액을 입력해주세요 ^^ : '))\n",
    "\n",
    "account = Account(owner, balace)\n",
    "\n",
    "while account.balance > 0:\n",
    "    try:\n",
    "        select_num = int(input(\"입금 출금 중 선택해주세요, (1: 입금, 2: 출금, 3: 종료)\"))\n",
    "        if select_num == 3:\n",
    "            break\n",
    "        elif select_num == 1:  # 입금\n",
    "            try:\n",
    "                deposit_amount = int(input(\"입금하실 금액을 입력해주세요 : \"))\n",
    "                if deposit_amount > 0:\n",
    "                    account.deposit(deposit = deposit_amount)\n",
    "                else:\n",
    "                    print(\"0 이상의 금액만 입력해주시기 바랍니다.\")\n",
    "            except ValueError:\n",
    "                print(\"유효한 숫자를 입력해주세요.\")\n",
    "        elif select_num == 2:  # 출금\n",
    "            try:\n",
    "                withdraw_amount = int(input(\"출금하실 금액을 입력해주세요 : \"))\n",
    "                if withdraw_amount > 0:\n",
    "                    account.withdraw(withdraw = withdraw_amount)\n",
    "                else:\n",
    "                    print(\"0 이상의 금액만 입력해주시기 바랍니다.\")\n",
    "            except ValueError:\n",
    "                print(\"유효한 숫자를 입력해주세요.\")\n",
    "    except ValueError:\n",
    "        print(\"유효한 숫자를 입력해주세요. (1, 2, 3)\")"
   ]
  }
 ],
 "metadata": {
  "kernelspec": {
   "display_name": "Python 3",
   "language": "python",
   "name": "python3"
  },
  "language_info": {
   "codemirror_mode": {
    "name": "ipython",
    "version": 3
   },
   "file_extension": ".py",
   "mimetype": "text/x-python",
   "name": "python",
   "nbconvert_exporter": "python",
   "pygments_lexer": "ipython3",
   "version": "3.9.6"
  }
 },
 "nbformat": 4,
 "nbformat_minor": 2
}
