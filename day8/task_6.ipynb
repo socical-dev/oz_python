{
 "cells": [
  {
   "cell_type": "markdown",
   "metadata": {},
   "source": [
    "[문제] \n",
    "\n",
    "'Vehicle'이라는 기본 클래스를 선언하세요. \n",
    "\n",
    "이 클래스는 make (제조사)와 model (모델명) 두 개의 속성을 갖고, 생성자(__init__)를 통해 이 두 속성을 초기화합니다. 'display_info'라는 메소드를 추가하여, \"이 차량은 [make]에서 제조한 [model]입니다.\"라는 메시지를 반환하도록 하세요.\n",
    "\n",
    "'Truck'과 'Car' 두 개의 하위 클래스를 생성하고, 각 클래스는 'Vehicle' 클래스로부터 상속받습니다. \n",
    "\n",
    "'Truck' 클래스에는 추가로 'payload' (적재량) 속성을, 'Car' 클래스에는 'seats' (좌석 수) 속성을 추가합니다. 각각의 하위 클래스에서 'display_info' 메소드는 기본 클래스의 메소드를 그대로 사용합니다.\n",
    "\n",
    "'Truck'과 'Car' 객체 각각을 생성하고, 'display_info' 메소드를 호출하여 정보를 출력하세요. \n",
    "\n",
    "또한, 각 객체의 추가 속성(적재량, 좌석 수)에 대한 정보도 출력하세요.\n",
    "\n",
    "이 문제는 클래스의 상속 개념을 이해하고, 기본 클래스의 속성과 메소드를 하위 클래스가 어떻게 활용할 수 있는지 보여줍니다. \n",
    "\n",
    "오버라이드는 필요하지 않으며, 각 하위 클래스의 고유한 속성을 추가하는 방법에 초점을 맞춥니다."
   ]
  },
  {
   "cell_type": "code",
   "execution_count": 2,
   "metadata": {},
   "outputs": [
    {
     "name": "stdout",
     "output_type": "stream",
     "text": [
      "이 차량은 [현대]에서 제조한 [GV80]입니다. 그리고 적재량은 1000t입니다.\n",
      "이 차량은 [벤츠]에서 제조한 [S200]입니다. 그리고 좌석수는 7입니다.\n"
     ]
    }
   ],
   "source": [
    "# 부모 클래스인 Vehicle 를 선언\n",
    "class Vehicle:\n",
    "    def __init__(self, make, model):\n",
    "        self.make = make\n",
    "        self.model = model\n",
    "    \n",
    "    def display_info(self):\n",
    "        return f'이 차량은 [{self.make}]에서 제조한 [{self.model}]입니다.'\n",
    "\n",
    "# child 클래스인 Truck 를 선언\n",
    "class Truck(Vehicle):\n",
    "    def __init__(self, make, model, payload):\n",
    "        super().__init__(make, model)\n",
    "        self.payload = payload\n",
    "        \n",
    "    def display_info(self):\n",
    "        return super().display_info()\n",
    "    \n",
    "# child 클래스인 Car 를 선언\n",
    "class Car(Vehicle):\n",
    "    def __init__(self, make, model, seats):\n",
    "        super().__init__(make, model)\n",
    "        self.seats = seats\n",
    "        \n",
    "    def display_info(self):\n",
    "        return super().display_info()\n",
    "\n",
    "# 트럭에 대한 정보 함소\n",
    "def truck_info():\n",
    "    truck_vehicle_list = ['제조사','모델명','적재량']\n",
    "\n",
    "    # truck_vehicle_list 만큼 반복문을 돌리면서 입력값을 truck_vehicle_list의 해당 인덱스에 입력값 할당\n",
    "    for i in range(0, len(truck_vehicle_list)):\n",
    "        truck_vehicle_list[i] = input(f\"트럭의 {truck_vehicle_list[i]}을(를) 입력해주세요! : \")\n",
    "    \n",
    "    truck = Truck(make = truck_vehicle_list[0], model = truck_vehicle_list[1], payload = truck_vehicle_list[2])\n",
    "\n",
    "    print(truck.display_info() + f' 그리고 적재량은 {truck.payload}입니다.')\n",
    "\n",
    "# 자동차에 대한 정보 함수\n",
    "def car_info():\n",
    "    # car_vehicle_list 만큼 반복문을 돌리면서 입력값을 car_vehicle_list의 해당 인덱스에 입력값 할당\n",
    "    car_vehicle_list = ['제조사','모델명','좌석수']\n",
    "    for i in range(0, len(car_vehicle_list)):\n",
    "        car_vehicle_list[i] = input(f\"승용차의 {car_vehicle_list[i]}을(를) 입력해주세요! : \")\n",
    "\n",
    "    car = Car(make = car_vehicle_list[0], model = car_vehicle_list[1], seats = car_vehicle_list[2])\n",
    "    \n",
    "    print(car.display_info() + f' 그리고 좌석수는 {car.seats}입니다.')\n",
    "    \n",
    "# 트럭과 승용차 정보 조회\n",
    "truck_info()\n",
    "car_info()\n"
   ]
  }
 ],
 "metadata": {
  "kernelspec": {
   "display_name": "Python 3",
   "language": "python",
   "name": "python3"
  },
  "language_info": {
   "codemirror_mode": {
    "name": "ipython",
    "version": 3
   },
   "file_extension": ".py",
   "mimetype": "text/x-python",
   "name": "python",
   "nbconvert_exporter": "python",
   "pygments_lexer": "ipython3",
   "version": "3.9.6"
  }
 },
 "nbformat": 4,
 "nbformat_minor": 2
}
