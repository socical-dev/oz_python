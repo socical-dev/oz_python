{
 "cells": [
  {
   "cell_type": "markdown",
   "metadata": {},
   "source": [
    "[문제] \n",
    "\n",
    "'Employee' 클래스를 선언하세요. \n",
    "\n",
    "이 클래스는 월급인상률을 의미하는 클래스 변수로 'raise_amount'를 갖고 있으며, 기본값은 1.04입니다. 다음 급여는 기본 급여에 월급인상률을 곱한 값으로 결정합니다.\n",
    "\n",
    "또한, 각 직원의 이름(name)과 급여(salary)를 속성으로 가지며, 'apply_raise' 메소드를 통해 급여에 'raise_amount'를 적용할 수 있어야 합니다.\n",
    "\n",
    "'Employee' 클래스의 객체 두 개를 생성하고, 한 객체에만 'raise_amount'를 변경한 후, 두 객체의 급여를 증가시켜보세요.<br>\n",
    "그리고 각 객체의 새로운 급여를 출력하세요."
   ]
  },
  {
   "cell_type": "code",
   "execution_count": 5,
   "metadata": {},
   "outputs": [
    {
     "name": "stdout",
     "output_type": "stream",
     "text": [
      "근영님의 인상된 급여는 1.2% 만큼 인상된 60000원이며, 우중님의 인상된 급여는 1.04% 만큼 인상된 52000원입니다.\n"
     ]
    }
   ],
   "source": [
    "\"\"\"\n",
    "- raise_amount => 연봉인상률이며 기본값 1.04\n",
    "- 다음 급여는 salary(기본급여) * raise_amount\n",
    "\"\"\"\n",
    "class Employee:\n",
    "    raise_amount = 1.04\n",
    "    def __init__(self, name, salary):\n",
    "        self.name = name\n",
    "        self.salary = salary\n",
    "        \n",
    "    # 급여인상률 적용\n",
    "    def apply_raise(self):\n",
    "        self.salary = int(self.salary * self.raise_amount)\n",
    "    \n",
    "# Employee 객체 생성    \n",
    "emplyee1 = Employee(\"근영님\", 50000)\n",
    "emplyee2 = Employee(\"우중님\", 50000)\n",
    "\n",
    "# 하나의 객체에만 월급 인상이 가능하기에 emplyee1 만 월급 인상률 인상\n",
    "emplyee1.raise_amount = 1.20\n",
    "\n",
    "# 각 급여 인상률 계산 메서드\n",
    "emplyee1.apply_raise()\n",
    "emplyee2.apply_raise()\n",
    "\n",
    "print(f\"{emplyee1.name}의 인상된 급여는 {emplyee1.raise_amount}% 만큼 인상된 {emplyee1.salary}원이며, {emplyee2.name}의 인상된 급여는 {emplyee2.raise_amount}% 만큼 인상된 {emplyee2.salary}원입니다.\")"
   ]
  },
  {
   "cell_type": "markdown",
   "metadata": {},
   "source": []
  },
  {
   "cell_type": "markdown",
   "metadata": {},
   "source": []
  }
 ],
 "metadata": {
  "kernelspec": {
   "display_name": "Python 3",
   "language": "python",
   "name": "python3"
  },
  "language_info": {
   "codemirror_mode": {
    "name": "ipython",
    "version": 3
   },
   "file_extension": ".py",
   "mimetype": "text/x-python",
   "name": "python",
   "nbconvert_exporter": "python",
   "pygments_lexer": "ipython3",
   "version": "3.9.6"
  }
 },
 "nbformat": 4,
 "nbformat_minor": 2
}
