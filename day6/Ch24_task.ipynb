{
 "cells": [
  {
   "cell_type": "markdown",
   "metadata": {},
   "source": [
    "사용자의 이름, 나이, 성별을 출력하는 함수 print_info를 작성하세요. 이 때, 모든 매개변수는 키워드 매개변수로만 받도록 하세요."
   ]
  },
  {
   "cell_type": "code",
   "execution_count": 4,
   "metadata": {},
   "outputs": [
    {
     "name": "stdout",
     "output_type": "stream",
     "text": [
      "이름은 정근영이고, 나이는 28살이며, 성별은 남성입니다.\n"
     ]
    }
   ],
   "source": [
    "user_name = input(\"이름을 입력해주세요 : \").strip()\n",
    "user_age = input(\"나이를 입력해주세요 : \").strip()\n",
    "user_sex = input(\"성별을 입력해주세요 : \").strip()\n",
    "\n",
    "def print_info (name, age, sex):\n",
    "    print(f\"이름은 {name}이고, 나이는 {age}살이며, 성별은 {sex}입니다.\")\n",
    "\n",
    "print_info(user_name, user_age, user_sex)"
   ]
  },
  {
   "cell_type": "markdown",
   "metadata": {},
   "source": []
  }
 ],
 "metadata": {
  "kernelspec": {
   "display_name": "Python 3",
   "language": "python",
   "name": "python3"
  },
  "language_info": {
   "codemirror_mode": {
    "name": "ipython",
    "version": 3
   },
   "file_extension": ".py",
   "mimetype": "text/x-python",
   "name": "python",
   "nbconvert_exporter": "python",
   "pygments_lexer": "ipython3",
   "version": "3.9.6"
  }
 },
 "nbformat": 4,
 "nbformat_minor": 2
}
