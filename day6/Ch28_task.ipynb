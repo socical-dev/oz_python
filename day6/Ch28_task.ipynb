{
 "cells": [
  {
   "cell_type": "markdown",
   "metadata": {},
   "source": [
    "사용자로부터 3개의 숫자를 입력받아, 이를 튜플로 만든 후 최소값과 최대값을 출력하는 함수 min_max를 작성하세요."
   ]
  },
  {
   "cell_type": "code",
   "execution_count": 2,
   "metadata": {},
   "outputs": [
    {
     "name": "stdout",
     "output_type": "stream",
     "text": [
      "3개의 숫자는 (1, 2, 3)이며, 최솟값은 1이며, 최댓값은 3 입니다.\n"
     ]
    }
   ],
   "source": [
    "origin_nums_list = tuple(map(int,input(\"3개의 숫자를 입력해주세요!! : \").split(\",\")))\n",
    "\n",
    "def min_max(nums_list):\n",
    "    print(f\"3개의 숫자는 {nums_list}이며, 최솟값은 {min(nums_list)}이며, 최댓값은 {max(nums_list)} 입니다.\")\n",
    "    \n",
    "min_max(nums_list = origin_nums_list)"
   ]
  },
  {
   "cell_type": "markdown",
   "metadata": {},
   "source": []
  }
 ],
 "metadata": {
  "kernelspec": {
   "display_name": "Python 3",
   "language": "python",
   "name": "python3"
  },
  "language_info": {
   "codemirror_mode": {
    "name": "ipython",
    "version": 3
   },
   "file_extension": ".py",
   "mimetype": "text/x-python",
   "name": "python",
   "nbconvert_exporter": "python",
   "pygments_lexer": "ipython3",
   "version": "3.9.6"
  }
 },
 "nbformat": 4,
 "nbformat_minor": 2
}
