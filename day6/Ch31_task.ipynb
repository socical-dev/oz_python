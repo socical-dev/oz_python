{
 "cells": [
  {
   "cell_type": "markdown",
   "metadata": {},
   "source": [
    "문자열 리스트를 받아, 각 문자열의 길이를 출력하는 함수 print_lengths를 작성하세요."
   ]
  },
  {
   "cell_type": "code",
   "execution_count": 8,
   "metadata": {},
   "outputs": [
    {
     "name": "stdout",
     "output_type": "stream",
     "text": [
      "요청하신 문자열 리스트는 ['딸기 농장', '복숭아 농장', '샤인머스켓 농장']이며,\n",
      "'딸기 농장'의 문자열 길이는 '5' 입니다.\n",
      "'복숭아 농장'의 문자열 길이는 '6' 입니다.\n",
      "'샤인머스켓 농장'의 문자열 길이는 '8' 입니다.\n"
     ]
    }
   ],
   "source": [
    "def print_lengths(str_list):\n",
    "    print (f\"요청하신 문자열 리스트는 {str_list}이며,\")\n",
    "    for i in range(0, len(str_list)):\n",
    "        print(f\"'{str_list[i]}'의 문자열 길이는 '{len(str_list[i])}' 입니다.\")\n",
    "    \n",
    "str_list = input(\"문자열을 작성해주시고, 다른 문자열을 입력을 원하시면 ','를 기입해주세요!! : \").split(\",\")\n",
    "\n",
    "print_lengths(str_list=str_list)"
   ]
  },
  {
   "cell_type": "markdown",
   "metadata": {},
   "source": []
  }
 ],
 "metadata": {
  "kernelspec": {
   "display_name": "Python 3",
   "language": "python",
   "name": "python3"
  },
  "language_info": {
   "codemirror_mode": {
    "name": "ipython",
    "version": 3
   },
   "file_extension": ".py",
   "mimetype": "text/x-python",
   "name": "python",
   "nbconvert_exporter": "python",
   "pygments_lexer": "ipython3",
   "version": "3.9.6"
  }
 },
 "nbformat": 4,
 "nbformat_minor": 2
}
