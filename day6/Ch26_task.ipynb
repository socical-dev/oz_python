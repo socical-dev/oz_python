{
 "cells": [
  {
   "cell_type": "markdown",
   "metadata": {},
   "source": [
    "0부터 시작하여 n까지의 숫자 중에서 홀수만 생성하는 제너레이터 odd_numbers를 작성하세요."
   ]
  },
  {
   "cell_type": "code",
   "execution_count": 18,
   "metadata": {},
   "outputs": [
    {
     "name": "stdout",
     "output_type": "stream",
     "text": [
      "입력하신 숫자는 28이며, 0 ~ 28까지의 범위 중 홀수는 다음과 같습니다!!\n",
      "1, 3, 5, 7, 9, 11, 13, 15, 17, 19, 21, 23, 25, "
     ]
    }
   ],
   "source": [
    "def odd_numbers(n):\n",
    "    for i in range(1, n):\n",
    "        yield i\n",
    "        if i % 2 != 0:\n",
    "            print(i, end=\", \")\n",
    "\n",
    "num = int(input(\"원하시는 숫자를 입력해주세요!! : \"))\n",
    "\n",
    "gen_odd_numbers = odd_numbers(num)\n",
    "\n",
    "print(f\"입력하신 숫자는 {num}이며, 0 ~ {num}까지의 범위 중 홀수는 다음과 같습니다!!\")\n",
    "for _ in range(num - 1):\n",
    "    next(gen_odd_numbers)\n",
    "    "
   ]
  },
  {
   "cell_type": "markdown",
   "metadata": {},
   "source": []
  }
 ],
 "metadata": {
  "kernelspec": {
   "display_name": "Python 3",
   "language": "python",
   "name": "python3"
  },
  "language_info": {
   "codemirror_mode": {
    "name": "ipython",
    "version": 3
   },
   "file_extension": ".py",
   "mimetype": "text/x-python",
   "name": "python",
   "nbconvert_exporter": "python",
   "pygments_lexer": "ipython3",
   "version": "3.9.6"
  }
 },
 "nbformat": 4,
 "nbformat_minor": 2
}
