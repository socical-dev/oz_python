{
 "cells": [
  {
   "cell_type": "markdown",
   "metadata": {},
   "source": [
    "두 문자열을 받아서 긴 문자열을 반환하는 함수 longer_string을 작성하세요. 만약 두 문자열의 길이가 같다면, 첫 번째 문자열을 반환하세요."
   ]
  },
  {
   "cell_type": "code",
   "execution_count": 2,
   "metadata": {},
   "outputs": [
    {
     "name": "stdout",
     "output_type": "stream",
     "text": [
      "두 문자열은 각각 감자냐와 고구마냐이며,\n",
      "승자는 고구마냐입니다.\n"
     ]
    }
   ],
   "source": [
    "def longer_string(*input_values):\n",
    "    if len(input_values[0]) == len(input_values[1]) or len(input_values[0]) > len(input_values[1]):\n",
    "        print(f\"두 문자열은 각각 {input_values[0]}와 {input_values[1]}이며,\\n승자는 {input_values[0]}입니다.\")\n",
    "    else:\n",
    "        print(f\"두 문자열은 각각 {input_values[0]}와 {input_values[1]}이며,\\n승자는 {input_values[1]}입니다.\")\n",
    "        \n",
    "user_input = input(\"값을 입력해주세요!! : \").split(\",\")\n",
    "longer_string(*user_input)"
   ]
  }
 ],
 "metadata": {
  "kernelspec": {
   "display_name": "Python 3",
   "language": "python",
   "name": "python3"
  },
  "language_info": {
   "codemirror_mode": {
    "name": "ipython",
    "version": 3
   },
   "file_extension": ".py",
   "mimetype": "text/x-python",
   "name": "python",
   "nbconvert_exporter": "python",
   "pygments_lexer": "ipython3",
   "version": "3.9.6"
  }
 },
 "nbformat": 4,
 "nbformat_minor": 2
}
