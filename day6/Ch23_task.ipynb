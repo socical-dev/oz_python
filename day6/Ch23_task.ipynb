{
 "cells": [
  {
   "cell_type": "markdown",
   "metadata": {},
   "source": [
    "사용자의 이름을 출력하는 함수 print_name을 작성하세요. 만약 이름이 주어지지 않았다면, 기본값으로 \"익명\"을 사용하세요."
   ]
  },
  {
   "cell_type": "code",
   "execution_count": 14,
   "metadata": {},
   "outputs": [
    {
     "name": "stdout",
     "output_type": "stream",
     "text": [
      "사용자는 익명입니다.\n"
     ]
    }
   ],
   "source": [
    "def print_name(name = \"익명\"):\n",
    "    return name\n",
    "\n",
    "name = input(\"사용자의 이름을 입력해주세요 : \").strip() # 혹시 모르니 앞뒤 공백 제거\n",
    "\n",
    "# input() 함수로 입력하지 않고 enter 하면 \"\" 이라는 문자열이 생성하여 다음과 같이 조건문 작성\n",
    "if name == \"\":\n",
    "    print(f'사용자는 {print_name()}입니다.')\n",
    "else:\n",
    "    print(f'사용자는 {print_name(name)}입니다.')"
   ]
  },
  {
   "cell_type": "markdown",
   "metadata": {},
   "source": []
  }
 ],
 "metadata": {
  "kernelspec": {
   "display_name": "Python 3",
   "language": "python",
   "name": "python3"
  },
  "language_info": {
   "codemirror_mode": {
    "name": "ipython",
    "version": 3
   },
   "file_extension": ".py",
   "mimetype": "text/x-python",
   "name": "python",
   "nbconvert_exporter": "python",
   "pygments_lexer": "ipython3",
   "version": "3.9.6"
  }
 },
 "nbformat": 4,
 "nbformat_minor": 2
}
