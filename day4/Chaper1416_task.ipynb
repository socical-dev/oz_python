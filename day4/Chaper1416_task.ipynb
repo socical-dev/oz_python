{
 "cells": [
  {
   "cell_type": "markdown",
   "metadata": {
    "id": "BX7SgOeWu86I"
   },
   "source": [
    "안녕하세요. 수강생 여러분~! Chapter14 ~ 16 수업은 잘 들으셨나요?\n",
    "\n",
    "Chapter14 ~ 16의 수업 내용을 바탕으로 아래 문제를 풀어주시면 됩니다.\n",
    "\n",
    "<br>\n",
    "\n",
    "\n",
    "[**답변 입력 방법**]\n",
    "\n",
    "문제 아래에 있는 코드 입력창에 정답코드를 작성하신 후  __▷ 버튼을 클릭해 코드를 실행__ 해보세요<br>"
   ]
  },
  {
   "cell_type": "markdown",
   "metadata": {},
   "source": []
  },
  {
   "cell_type": "markdown",
   "metadata": {},
   "source": [
    "---"
   ]
  },
  {
   "cell_type": "markdown",
   "metadata": {
    "id": "7kQJMRuFu-6s"
   },
   "source": [
    "__[문제1]__\n",
    "\n",
    "주어진 정수 x와 자연수 n을 이용해, x부터 시작해 x씩 증가하는 숫자를 n개 지니는 리스트를 출력해주세요   \n",
    "<br>\n",
    "\n",
    "x = 2, n =5"
   ]
  },
  {
   "cell_type": "code",
   "execution_count": 7,
   "metadata": {
    "id": "juUF2KYbu0DX"
   },
   "outputs": [
    {
     "name": "stdout",
     "output_type": "stream",
     "text": [
      "[2, 4, 8, 16, 32]\n"
     ]
    }
   ],
   "source": [
    "x = 2\n",
    "n = 5\n",
    "\n",
    "num_list = list()\n",
    "\n",
    "num_list.append(x)\n",
    "for i in range(n-1):\n",
    "    x += x\n",
    "    num_list.append(x)\n",
    "\n",
    "print(num_list)"
   ]
  },
  {
   "cell_type": "markdown",
   "metadata": {},
   "source": [
    "---"
   ]
  },
  {
   "cell_type": "markdown",
   "metadata": {
    "id": "4BPXMLXUvBVL"
   },
   "source": [
    "__[문제2]__\n",
    "\n",
    "전화번호가 문자열 phone_number로 주어졌을 때, 전화번호의 뒷 4자리를 *으로 가린 문자열이 출력되도록 코드를 작성해주세요\n",
    "\n",
    "phone_number = \"01012347890\"  \n",
    "<br>\n",
    "\n",
    "출력 예) \"0101234****\""
   ]
  },
  {
   "cell_type": "code",
   "execution_count": 9,
   "metadata": {
    "id": "P0fY7CYUvC_j"
   },
   "outputs": [
    {
     "name": "stdout",
     "output_type": "stream",
     "text": [
      "전화번호의 뒤4자리를 * 로 가리게 되면 \"0101234****\" 입니다.\n"
     ]
    }
   ],
   "source": [
    "phone_number = \"01012347890\"\n",
    "secret_phone_number = \"\"\n",
    "\n",
    "phone_number_list = list(phone_number)\n",
    "\n",
    "for i in range(0,len(phone_number_list)) :\n",
    "    # if i==7 or i==8 or i==9 or i==10:\n",
    "    if i >= 7:  # 내가 산술 연산자를 생각을 안했다니,,,,(원래 위처럼 작성,,했다는,,,ㅠㅜㅜ)\n",
    "        secret_phone_number += \"*\"\n",
    "    else:\n",
    "        secret_phone_number += phone_number_list[i] \n",
    "\n",
    "\n",
    "print(f'전화번호의 뒤4자리를 * 로 가리게 되면 \"{secret_phone_number}\" 입니다.')\n"
   ]
  },
  {
   "cell_type": "markdown",
   "metadata": {},
   "source": [
    "---"
   ]
  },
  {
   "cell_type": "markdown",
   "metadata": {
    "id": "uUdOU9cFvDsq"
   },
   "source": [
    "__[문제3]__\n",
    "\n",
    "숫자를 건넬 때 일부 자릿수를 영단어로 바꾼 카드를 건네주면 프로도는 원래 숫자를 찾는 게임입니다.\n",
    "\n",
    "다음은 숫자의 일부 자릿수를 영단어로 바꾸는 예시입니다.\n",
    "\n",
    "1478 → \"one4seveneight\"  \n",
    "234567 → \"23four5six7\"  \n",
    "10203 → \"1zerotwozero3\"    \n",
    "\n",
    "이렇게 숫자의 일부 자릿수가 영단어로 바뀌어졌거나,   \n",
    "혹은 바뀌지 않고 그대로인 문자열 s가 주어졌을때\n",
    "s가 의미하는 원래 숫자를 출력하도록 코드를 작성해주세요\n",
    "\n",
    "s = \"77three4one\n",
    "\n",
    "---\n",
    "참고로 각 숫자에 대응되는 영단어는 다음 표와 같습니다.\n",
    "\n",
    "숫자\t영단어  \n",
    "0\tzero  \n",
    "1\tone  \n",
    "2\ttwo  \n",
    "3\tthree  \n",
    "4\tfour  \n",
    "5\tfive  \n",
    "6\tsix  \n",
    "7\tseven  \n",
    "8\teight  \n",
    "9\tnine  "
   ]
  },
  {
   "cell_type": "code",
   "execution_count": 18,
   "metadata": {
    "id": "2NmqRFgDvFtz"
   },
   "outputs": [
    {
     "name": "stdout",
     "output_type": "stream",
     "text": [
      "영숫자 필터기: 9876543210\n"
     ]
    }
   ],
   "source": [
    "s = input(\"숫자를 입력해주세요.(소문자 영어 숫자 지원!!!): \")\n",
    "filter_num = ''\n",
    "en_num = ['zero','one','two','three','four','five','six','seven','eight','nine']\n",
    "\n",
    "num = ''    # 문자가 나올 때마다 num에 넣어 en_num 리스트 안에 값을 찾는용으로 선언\n",
    "\n",
    "for i in range(0, len(s)):  # 입력값의 길이 만큼 반복문을 돌려 문자 하나하나를 체크하려고 선언\n",
    "    if s[i].isdigit():  # 해당 문자가 숫자인지 확인\n",
    "        filter_num += s[i]  # 숫자이면 결과물로 출력해야 될 filter_num에 추가!\n",
    "    else:   # 문자일 경우\n",
    "        num += s[i] # num 안에 문자 추가!\n",
    "        if num in en_num:   # en_num 리스트 안에 num 이 있는지 확인 (있다면: True, 없다면: False)\n",
    "            filter_num += str(en_num.index(num))    # en_num 리스트 안에 num이 있다면 filter_num에 추가!\n",
    "            num = ''    #결과값으로 출력할 filter_num에 추가했으니 다시 초기화!\n",
    "\n",
    "print(f'영숫자 필터기: {filter_num}')\n"
   ]
  },
  {
   "cell_type": "markdown",
   "metadata": {},
   "source": [
    "---"
   ]
  },
  {
   "cell_type": "markdown",
   "metadata": {
    "id": "J0Tha6AdvGL3"
   },
   "source": [
    "__[문제4]__\n",
    "\n",
    "행렬의 덧셈은 행과 열의 크기가 같은 두 행렬의 같은 행, 같은 열의 값을 서로 더한 결과가 됩니다. \n",
    "\n",
    " 행렬 arr1과 arr2가 주어졌을 때, 행렬 덧셈의 결과를 출력하는 코드를 작성해주세요(result와 같은 결과가 출력되도록 작성)\n",
    "\n",
    "arr1 = [[1,2],[2,3]]\n",
    "\n",
    "arr2 = [[3,4],[5,6]]\n",
    "\n",
    "result = [[4,6],[7,9]]"
   ]
  },
  {
   "cell_type": "code",
   "execution_count": 40,
   "metadata": {
    "id": "ujiXrEhJvIV0"
   },
   "outputs": [
    {
     "name": "stdout",
     "output_type": "stream",
     "text": [
      "result 리스트는 [[4, 6], [7, 9]]입니다.\n"
     ]
    }
   ],
   "source": [
    "arr1 = [[1,2],[2,3]]\n",
    "arr2 = [[3,4],[5,6]]\n",
    "\n",
    "result = list() # 결과값으로 출력할 result 리스트 선언\n",
    "\n",
    "for i in range(0,len(arr1)):    # 이중 리스트이기에 내부에 있는 리스트에 있는 값들을 더하기 위해 일단 바깥 리스트 뜯어내기!\n",
    "    sub_list = list()\n",
    "    for j in range(0,len(arr1[i])):    # arr1과 arr2에 들어있는 값끼리 더하기 위해 안에 있는 리스트의 길이 만큼 반복문\n",
    "        sub_list.append(arr1[i][j]+arr2[i][j])  # arr[i] 리스트 안에 있는 값을 sub_list에 추가.\n",
    "    result.append(sub_list) # arr[i] 리스트의 값 합산이 끝났으니니 result 값에 추가.\n",
    "print(f'result 리스트는 {result}입니다.')\n",
    "\n",
    "\n",
    "\n"
   ]
  },
  {
   "cell_type": "markdown",
   "metadata": {},
   "source": [
    "---"
   ]
  },
  {
   "cell_type": "markdown",
   "metadata": {
    "id": "eLdrWVkavJEN"
   },
   "source": [
    "__[문제5]__\n",
    "\n",
    "양의 정수 x가 하샤드 수이려면 x의 자릿수의 합으로 x가 나누어져야 합니다.   \n",
    "예를 들어 18의 자릿수 합은 1+8=9이고, 18은 9로 나누어 떨어지므로 18은 하샤드 수입니다.   \n",
    "주어진 x를 이용해 x가 하샤드 수인지 아닌지 검사하는 코드를 작성해주세요\n",
    "\n",
    "x = 17\n",
    "\n",
    "----\n",
    "\n",
    "입출력 예시\n",
    "x\t결과값  \n",
    "10\ttrue  \n",
    "12\ttrue  \n",
    "11\tfalse  \n",
    "13\tfalse  "
   ]
  },
  {
   "cell_type": "code",
   "execution_count": 10,
   "metadata": {
    "id": "EULD-IOrvKmG"
   },
   "outputs": [
    {
     "name": "stdout",
     "output_type": "stream",
     "text": [
      "x는 하샤드 수입니까? : False\n"
     ]
    }
   ],
   "source": [
    "x = 17\n",
    "\n",
    "# 1과 7을 더하기 위해 17을 시퀀스인 문자열로 변환 후 앞자리와 뒷자리를 구해 다시 int 로 형변환하여 더함.\n",
    "sum_x = int(str(x)[0]) + int(str(x)[1]) # 이전에는 x 변수 대신 str(17)로 넣었다는,,,,참 바보인거 ㅇㅈ,,\n",
    "\n",
    "print(f'x는 하샤드 수입니까? : {x//sum_x == 0}')"
   ]
  },
  {
   "cell_type": "markdown",
   "metadata": {},
   "source": [
    "---"
   ]
  },
  {
   "cell_type": "markdown",
   "metadata": {
    "id": "GeS6hZhivLMZ"
   },
   "source": [
    "__[문제6]__\n",
    "\n",
    "String형 배열 seoul의 element중 \"Kim\"의 인덱스 x를 찾아, \"김서방은 x에 있다\"는 String을 출력하는 코드를 작성해주세요.   \n",
    "\n",
    "seoul에 \"Kim\"은 오직 한 번만 나타나며 잘못된 값이 입력되는 경우는 없습니다.\n",
    "\n",
    "seoul = [\"Jane\", \"Kim\"]\n",
    "\n",
    "<br>\n",
    "출력 예) \"김서방은 1에 있다\""
   ]
  },
  {
   "cell_type": "code",
   "execution_count": 52,
   "metadata": {
    "id": "e4LXat3BvRRg"
   },
   "outputs": [
    {
     "name": "stdout",
     "output_type": "stream",
     "text": [
      "김서방은 1에 있다\n"
     ]
    }
   ],
   "source": [
    "seoul = [\"Jane\",\"Kim\"]\n",
    "\n",
    "print(f'김서방은 {seoul.index(\"Kim\")}에 있다')  #index() 메소드를 통해 Kim의 위치 찾기!!"
   ]
  },
  {
   "cell_type": "markdown",
   "metadata": {},
   "source": [
    "---"
   ]
  },
  {
   "cell_type": "markdown",
   "metadata": {
    "id": "iZjKl-ZqvOkm"
   },
   "source": [
    "__[문제7]__\n",
    "\n",
    "0부터 9까지의 숫자 중 일부가 들어있는 정수 배열 numbers가 주어집니다.   \n",
    "numbers에서 찾을 수 없는 0부터 9까지의 숫자를 모두 찾아 더한 수를 출력해주세요\n",
    "\n",
    "numbers = [5,8,1,0,6,9]"
   ]
  },
  {
   "cell_type": "code",
   "execution_count": 55,
   "metadata": {
    "id": "598DAkIHvQav"
   },
   "outputs": [
    {
     "name": "stdout",
     "output_type": "stream",
     "text": [
      "numbers에서 찾을 수 없었던 값들의 합은 16입니다.\n"
     ]
    }
   ],
   "source": [
    "numbers = [5,8,1,0,6,9]\n",
    "num = 0\n",
    "\n",
    "for i in range(10):\n",
    "    if i not in numbers:    # numbers 안에 i 숫자가 없을 경우!!!\n",
    "        num += i\n",
    "\n",
    "print(f'numbers에서 찾을 수 없었던 값들의 합은 {num}입니다.')"
   ]
  }
 ],
 "metadata": {
  "colab": {
   "authorship_tag": "ABX9TyMLQjyUmELFyKkx1AyovOFZ",
   "provenance": []
  },
  "kernelspec": {
   "display_name": "Python 3",
   "name": "python3"
  },
  "language_info": {
   "codemirror_mode": {
    "name": "ipython",
    "version": 3
   },
   "file_extension": ".py",
   "mimetype": "text/x-python",
   "name": "python",
   "nbconvert_exporter": "python",
   "pygments_lexer": "ipython3",
   "version": "3.11.9"
  }
 },
 "nbformat": 4,
 "nbformat_minor": 0
}
